{
 "cells": [
  {
   "cell_type": "code",
   "execution_count": 1,
   "metadata": {},
   "outputs": [],
   "source": [
    "import tensorflow as tf\n",
    "tf.compat.v1.disable_eager_execution()\n",
    "from tensorflow.keras.models import Sequential\n",
    "from tensorflow.keras.layers import Dense, Flatten, Conv2D, MaxPool2D, Dropout\n",
    "from tensorflow.keras.losses import binary_crossentropy\n",
    "from tensorflow.keras.optimizers import Adam\n",
    "import numpy as np\n",
    "import pandas as pd\n",
    "import cv2\n",
    "import os\n",
    "from keras.preprocessing.image import ImageDataGenerator\n",
    "from keras.regularizers import l2\n",
    "from art.attacks.evasion import FastGradientMethod\n",
    "from art.estimators.classification import KerasClassifier\n",
    "from art.attacks.poisoning import PoisoningAttackBackdoor\n",
    "from art.attacks.poisoning import PoisoningAttackCleanLabelBackdoor\n",
    "from art.attacks.poisoning.perturbations.image_perturbations import add_pattern_bd, add_single_bd\n",
    "from sklearn.model_selection import train_test_split\n",
    "import matplotlib.pyplot as plt\n",
    "from sklearn.metrics import roc_auc_score, roc_curve"
   ]
  },
  {
   "cell_type": "code",
   "execution_count": 2,
   "metadata": {},
   "outputs": [
    {
     "name": "stdout",
     "output_type": "stream",
     "text": [
      "'NoneType' object is not subscriptable\n"
     ]
    },
    {
     "name": "stderr",
     "output_type": "stream",
     "text": [
      "/software/spackages/linux-centos8-x86_64/gcc-8.3.1/anaconda3-2019.10-v5cuhr6keyz5ryxcwvv2jkzfj2gwrj4a/lib/python3.7/site-packages/ipykernel_launcher.py:16: VisibleDeprecationWarning: Creating an ndarray from ragged nested sequences (which is a list-or-tuple of lists-or-tuples-or ndarrays with different lengths or shapes) is deprecated. If you meant to do this, you must specify 'dtype=object' when creating the ndarray\n",
      "  app.launch_new_instance()\n"
     ]
    },
    {
     "name": "stdout",
     "output_type": "stream",
     "text": [
      "'NoneType' object is not subscriptable\n"
     ]
    }
   ],
   "source": [
    "labels = ['Damaged cars', 'Undamaged cars']\n",
    "img_size = 512\n",
    "\n",
    "def get_data(data_dir):\n",
    "    data = [] \n",
    "    for label in labels: \n",
    "        path = os.path.join(data_dir, label)\n",
    "        class_num = labels.index(label)\n",
    "        for img in os.listdir(path):\n",
    "            try:\n",
    "                img_arr = cv2.imread(os.path.join(path, img))[...,::-1]\n",
    "                resized_arr = cv2.resize(img_arr, (img_size, img_size)) # Reshaping images to preferred size\n",
    "                data.append([resized_arr, class_num])\n",
    "            except Exception as e:\n",
    "                print(e)\n",
    "    return np.array(data)\n",
    "\n",
    "train = get_data('/home/idebnat/FoolAI/train')\n",
    "test = get_data('/home/idebnat/FoolAI/test')\n",
    "\n",
    "x_train = []\n",
    "y_train = []\n",
    "x_test = []\n",
    "y_test = []\n",
    "\n",
    "for feature, label in train:\n",
    "  x_train.append(feature)\n",
    "  y_train.append(label)\n",
    "\n",
    "for feature, label in test:\n",
    "  x_test.append(feature)\n",
    "  y_test.append(label)\n",
    "\n",
    "\n",
    "x_train = np.array(x_train)/255\n",
    "x_test = np.array(x_test)/255\n",
    "\n",
    "x_train.reshape(-1, img_size, img_size, 1)\n",
    "y_train = np.array(y_train)\n",
    "\n",
    "x_test.reshape(-1, img_size, img_size, 1)\n",
    "y_test = np.array(y_test)\n",
    "x_train, x_val, y_train, y_val = train_test_split(x_train, y_train, test_size=0.2, shuffle=True, random_state=40)\n",
    "\n",
    "datagen = ImageDataGenerator(\n",
    "        featurewise_center=False,  # set input mean to 0 over the dataset\n",
    "        samplewise_center=False,  # set each sample mean to 0\n",
    "        featurewise_std_normalization=False,  # divide inputs by std of the dataset\n",
    "        samplewise_std_normalization=False,  # divide each input by its std\n",
    "        zca_whitening=False,  # apply ZCA whitening\n",
    "        rotation_range = 30,  # randomly rotate images in the range (degrees, 0 to 180)\n",
    "        zoom_range = 0.2, # Randomly zoom image \n",
    "        width_shift_range=0.1,  # randomly shift images horizontally (fraction of total width)\n",
    "        height_shift_range=0.1,  # randomly shift images vertically (fraction of total height)\n",
    "        horizontal_flip = True,  # randomly flip images\n",
    "        vertical_flip=False)  # randomly flip images\n",
    "\n",
    "\n",
    "datagen.fit(x_train)"
   ]
  },
  {
   "cell_type": "code",
   "execution_count": 3,
   "metadata": {},
   "outputs": [
    {
     "name": "stdout",
     "output_type": "stream",
     "text": [
      "Model: \"sequential\"\n",
      "_________________________________________________________________\n",
      " Layer (type)                Output Shape              Param #   \n",
      "=================================================================\n",
      " conv2d (Conv2D)             (None, 512, 512, 32)      1568      \n",
      "                                                                 \n",
      " max_pooling2d (MaxPooling2D  (None, 256, 256, 32)     0         \n",
      " )                                                               \n",
      "                                                                 \n",
      " conv2d_1 (Conv2D)           (None, 256, 256, 32)      16416     \n",
      "                                                                 \n",
      " max_pooling2d_1 (MaxPooling  (None, 128, 128, 32)     0         \n",
      " 2D)                                                             \n",
      "                                                                 \n",
      " conv2d_2 (Conv2D)           (None, 128, 128, 32)      16416     \n",
      "                                                                 \n",
      " max_pooling2d_2 (MaxPooling  (None, 64, 64, 32)       0         \n",
      " 2D)                                                             \n",
      "                                                                 \n",
      " conv2d_3 (Conv2D)           (None, 64, 64, 64)        32832     \n",
      "                                                                 \n",
      " max_pooling2d_3 (MaxPooling  (None, 32, 32, 64)       0         \n",
      " 2D)                                                             \n",
      "                                                                 \n",
      " dropout (Dropout)           (None, 32, 32, 64)        0         \n",
      "                                                                 \n",
      " flatten (Flatten)           (None, 65536)             0         \n",
      "                                                                 \n",
      " dense (Dense)               (None, 128)               8388736   \n",
      "                                                                 \n",
      " dense_1 (Dense)             (None, 64)                8256      \n",
      "                                                                 \n",
      " dense_2 (Dense)             (None, 32)                2080      \n",
      "                                                                 \n",
      " dense_3 (Dense)             (None, 1)                 33        \n",
      "                                                                 \n",
      "=================================================================\n",
      "Total params: 8,466,337\n",
      "Trainable params: 8,466,337\n",
      "Non-trainable params: 0\n",
      "_________________________________________________________________\n"
     ]
    }
   ],
   "source": [
    "model = Sequential()\n",
    "model.add(Conv2D(32, 4,padding=\"same\", activation=\"relu\", input_shape=(img_size,img_size,3)))\n",
    "model.add(MaxPool2D())\n",
    "\n",
    "model.add(Conv2D(32, 4, padding=\"same\", activation=\"relu\"))\n",
    "model.add(MaxPool2D())\n",
    "\n",
    "model.add(Conv2D(32, 4, padding=\"same\", activation=\"relu\"))\n",
    "model.add(MaxPool2D())\n",
    "\n",
    "model.add(Conv2D(64, 4, padding=\"same\", activation=\"relu\"))\n",
    "model.add(MaxPool2D())\n",
    "model.add(Dropout(0.4))\n",
    "\n",
    "model.add(Flatten())\n",
    "model.add(Dense(128,activation=\"relu\", kernel_regularizer=l2(0.01)))\n",
    "model.add(Dense(64,activation=\"relu\", kernel_regularizer=l2(0.001)))\n",
    "model.add(Dense(32,activation=\"relu\"))\n",
    "model.add(Dense(1, activation=\"sigmoid\"))\n",
    "\n",
    "model.summary()"
   ]
  },
  {
   "cell_type": "code",
   "execution_count": 4,
   "metadata": {},
   "outputs": [],
   "source": [
    "opt = Adam(learning_rate=5e-5)\n",
    "model.compile(optimizer = opt , loss=\"binary_crossentropy\" , metrics = ['accuracy', 'AUC'])\n",
    "classifier = KerasClassifier(model=model, clip_values=(0, 1), use_logits=False)\n",
    "ep=25"
   ]
  },
  {
   "cell_type": "code",
   "execution_count": 5,
   "metadata": {},
   "outputs": [
    {
     "name": "stdout",
     "output_type": "stream",
     "text": [
      "Train on 160 samples, validate on 40 samples\n",
      "WARNING:tensorflow:OMP_NUM_THREADS is no longer used by the default Keras config. To configure the number of threads, use tf.config.threading APIs.\n",
      "Epoch 1/25\n",
      "160/160 [==============================] - ETA: 0s - loss: 3.2737 - accuracy: 0.5063 - AUC: 0.5200"
     ]
    },
    {
     "name": "stderr",
     "output_type": "stream",
     "text": [
      "/home/idebnat/software/venv/tf_gpu/lib/python3.7/site-packages/keras/engine/training_v1.py:2057: UserWarning: `Model.state_updates` will be removed in a future version. This property should not be used in TensorFlow 2.0, as `updates` are applied automatically.\n",
      "  updates = self.state_updates\n"
     ]
    },
    {
     "name": "stdout",
     "output_type": "stream",
     "text": [
      "160/160 [==============================] - 43s 269ms/sample - loss: 3.2737 - accuracy: 0.5063 - AUC: 0.5200 - val_loss: 3.1730 - val_accuracy: 0.5250 - val_AUC: 0.8045\n",
      "Epoch 2/25\n",
      "160/160 [==============================] - 42s 262ms/sample - loss: 3.1141 - accuracy: 0.4938 - AUC: 0.7733 - val_loss: 3.0202 - val_accuracy: 0.5250 - val_AUC: 0.7757\n",
      "Epoch 3/25\n",
      "160/160 [==============================] - 43s 266ms/sample - loss: 2.9563 - accuracy: 0.5312 - AUC: 0.8129 - val_loss: 2.8699 - val_accuracy: 0.5750 - val_AUC: 0.7544\n",
      "Epoch 4/25\n",
      "160/160 [==============================] - 42s 265ms/sample - loss: 2.8037 - accuracy: 0.6500 - AUC: 0.8168 - val_loss: 2.7236 - val_accuracy: 0.6250 - val_AUC: 0.7644\n",
      "Epoch 5/25\n",
      "160/160 [==============================] - 42s 263ms/sample - loss: 2.6561 - accuracy: 0.7188 - AUC: 0.8144 - val_loss: 2.5843 - val_accuracy: 0.5750 - val_AUC: 0.7657\n",
      "Epoch 6/25\n",
      "160/160 [==============================] - 42s 264ms/sample - loss: 2.5100 - accuracy: 0.7500 - AUC: 0.8324 - val_loss: 2.4580 - val_accuracy: 0.5500 - val_AUC: 0.7719\n",
      "Epoch 7/25\n",
      "160/160 [==============================] - 42s 263ms/sample - loss: 2.3756 - accuracy: 0.7688 - AUC: 0.8441 - val_loss: 2.3407 - val_accuracy: 0.5750 - val_AUC: 0.7732\n",
      "Epoch 8/25\n",
      "160/160 [==============================] - 42s 265ms/sample - loss: 2.2501 - accuracy: 0.7875 - AUC: 0.8476 - val_loss: 2.2336 - val_accuracy: 0.6000 - val_AUC: 0.7870\n",
      "Epoch 9/25\n",
      "160/160 [==============================] - 42s 265ms/sample - loss: 2.1325 - accuracy: 0.7688 - AUC: 0.8888 - val_loss: 2.1387 - val_accuracy: 0.7250 - val_AUC: 0.7531\n",
      "Epoch 10/25\n",
      "160/160 [==============================] - 43s 268ms/sample - loss: 2.0161 - accuracy: 0.8313 - AUC: 0.8922 - val_loss: 2.0471 - val_accuracy: 0.6750 - val_AUC: 0.8008\n",
      "Epoch 11/25\n",
      "160/160 [==============================] - 42s 264ms/sample - loss: 1.9027 - accuracy: 0.8125 - AUC: 0.9101 - val_loss: 1.9742 - val_accuracy: 0.6750 - val_AUC: 0.8133\n",
      "Epoch 12/25\n",
      "160/160 [==============================] - 43s 266ms/sample - loss: 1.7983 - accuracy: 0.8687 - AUC: 0.9478 - val_loss: 1.8926 - val_accuracy: 0.7750 - val_AUC: 0.7945\n",
      "Epoch 13/25\n",
      "160/160 [==============================] - 42s 265ms/sample - loss: 1.7102 - accuracy: 0.8438 - AUC: 0.9371 - val_loss: 1.8600 - val_accuracy: 0.7000 - val_AUC: 0.8296\n",
      "Epoch 14/25\n",
      "160/160 [==============================] - 33s 208ms/sample - loss: 1.5984 - accuracy: 0.9000 - AUC: 0.9693 - val_loss: 1.7671 - val_accuracy: 0.7500 - val_AUC: 0.7995\n",
      "Epoch 15/25\n",
      "160/160 [==============================] - 28s 173ms/sample - loss: 1.5163 - accuracy: 0.9062 - AUC: 0.9736 - val_loss: 1.7132 - val_accuracy: 0.7250 - val_AUC: 0.8033\n",
      "Epoch 16/25\n",
      "160/160 [==============================] - 28s 174ms/sample - loss: 1.4465 - accuracy: 0.9062 - AUC: 0.9740 - val_loss: 1.7188 - val_accuracy: 0.7250 - val_AUC: 0.8271\n",
      "Epoch 17/25\n",
      "160/160 [==============================] - 28s 174ms/sample - loss: 1.3868 - accuracy: 0.9187 - AUC: 0.9830 - val_loss: 1.6833 - val_accuracy: 0.6750 - val_AUC: 0.7870\n",
      "Epoch 18/25\n",
      "160/160 [==============================] - 28s 174ms/sample - loss: 1.3016 - accuracy: 0.9250 - AUC: 0.9877 - val_loss: 1.6258 - val_accuracy: 0.7250 - val_AUC: 0.8346\n",
      "Epoch 19/25\n",
      "160/160 [==============================] - 28s 173ms/sample - loss: 1.2234 - accuracy: 0.9812 - AUC: 0.9962 - val_loss: 1.5530 - val_accuracy: 0.7000 - val_AUC: 0.8208\n",
      "Epoch 20/25\n",
      "160/160 [==============================] - 28s 174ms/sample - loss: 1.1676 - accuracy: 0.9812 - AUC: 0.9979 - val_loss: 1.6322 - val_accuracy: 0.7250 - val_AUC: 0.8609\n",
      "Epoch 21/25\n",
      "160/160 [==============================] - 28s 173ms/sample - loss: 1.1564 - accuracy: 0.9438 - AUC: 0.9928 - val_loss: 1.5393 - val_accuracy: 0.7000 - val_AUC: 0.8133\n",
      "Epoch 22/25\n",
      "160/160 [==============================] - 28s 173ms/sample - loss: 1.0976 - accuracy: 0.9563 - AUC: 0.9949 - val_loss: 1.4793 - val_accuracy: 0.7500 - val_AUC: 0.8283\n",
      "Epoch 23/25\n",
      "160/160 [==============================] - 28s 173ms/sample - loss: 1.0348 - accuracy: 0.9937 - AUC: 0.9994 - val_loss: 1.4380 - val_accuracy: 0.7500 - val_AUC: 0.8346\n",
      "Epoch 24/25\n",
      "160/160 [==============================] - 28s 174ms/sample - loss: 0.9913 - accuracy: 0.9875 - AUC: 1.0000 - val_loss: 1.4209 - val_accuracy: 0.7000 - val_AUC: 0.8333\n",
      "Epoch 25/25\n",
      "160/160 [==============================] - 28s 173ms/sample - loss: 0.9534 - accuracy: 1.0000 - AUC: 1.0000 - val_loss: 1.4099 - val_accuracy: 0.7500 - val_AUC: 0.8509\n"
     ]
    },
    {
     "name": "stderr",
     "output_type": "stream",
     "text": [
      "/home/idebnat/software/venv/tf_gpu/lib/python3.7/site-packages/keras/engine/training_v1.py:2079: UserWarning: `Model.state_updates` will be removed in a future version. This property should not be used in TensorFlow 2.0, as `updates` are applied automatically.\n",
      "  updates=self.state_updates,\n"
     ]
    },
    {
     "name": "stdout",
     "output_type": "stream",
     "text": [
      "Accuracy on benign test examples: 81.81818181818183%\n"
     ]
    }
   ],
   "source": [
    "classifier = KerasClassifier(model=model, clip_values=(0, 1), use_logits=False)\n",
    "classifier.fit(x_train, y_train, batch_size=32, nb_epochs=ep, validation_data=(x_val,y_val))\n",
    "predictions = classifier.predict(x_test)\n",
    "accuracy = np.sum(np.where(predictions>0.5,1,0).reshape(1,-1) == y_test)/len(y_test)\n",
    "print(\"Accuracy on benign test examples: {}%\".format(accuracy * 100))"
   ]
  },
  {
   "cell_type": "code",
   "execution_count": 6,
   "metadata": {},
   "outputs": [
    {
     "data": {
      "image/png": "[encoded data removed]",
      "text/plain": [
       "<Figure size 432x288 with 1 Axes>"
      ]
     },
     "metadata": {
      "needs_background": "light"
     },
     "output_type": "display_data"
    }
   ],
   "source": [
    "auc=roc_auc_score(y_test, predictions)\n",
    "fpr, tpr, thresholds = roc_curve(y_test, predictions)\n",
    "plt.plot(fpr,tpr, color=\"blue\")\n",
    "plt.plot([0, 1], [0, 1], color=\"orange\", linestyle=\"--\")\n",
    "plt.xlabel('False Positive Rate')\n",
    "plt.ylabel('True Positive Rate')\n",
    "plt.show()"
   ]
  },
  {
   "cell_type": "code",
   "execution_count": 24,
   "metadata": {},
   "outputs": [
    {
     "name": "stdout",
     "output_type": "stream",
     "text": [
      "Accuracy on adversarial test examples: 52.27272727272727%\n"
     ]
    }
   ],
   "source": [
    "x_test_undam=x_test[y_test==1]\n",
    "y_test_undam=y_test[y_test==1]\n",
    "\n",
    "attack=FastGradientMethod(estimator=classifier,eps=0.05)\n",
    "x_test_adv = attack.generate(x=x_test_undam, y=y_test_undam)\n",
    "\n",
    "x_test_new=np.concatenate([x_test[y_test==0], x_test_adv])\n",
    "y_test_new=np.concatenate([y_test[y_test==0], y_test[y_test==1]])\n",
    "\n",
    "predictions = classifier.predict(x_test_new)\n",
    "accuracy = np.sum(np.where(predictions>0.5,1,0).reshape(1,-1) == y_test_new)/len(y_test_new)\n",
    "print(\"Accuracy on adversarial test examples: {}%\".format(accuracy * 100))"
   ]
  },
  {
   "cell_type": "code",
   "execution_count": 25,
   "metadata": {},
   "outputs": [
    {
     "name": "stdout",
     "output_type": "stream",
     "text": [
      "0.42355371900826444\n"
     ]
    },
    {
     "data": {
      "image/png": "[encoded data removed]",
      "text/plain": [
       "<Figure size 432x288 with 1 Axes>"
      ]
     },
     "metadata": {
      "needs_background": "light"
     },
     "output_type": "display_data"
    }
   ],
   "source": [
    "auc2=roc_auc_score(y_test_new, predictions)\n",
    "print(auc2)\n",
    "fpr, tpr, thresholds = roc_curve(y_test_new, predictions)\n",
    "plt.plot(fpr,tpr, color=\"blue\")\n",
    "plt.plot([0, 1], [0, 1], color=\"orange\", linestyle=\"--\")\n",
    "plt.xlabel('False Positive Rate')\n",
    "plt.ylabel('True Positive Rate')\n",
    "plt.show()"
   ]
  },
  {
   "cell_type": "code",
   "execution_count": 9,
   "metadata": {},
   "outputs": [
    {
     "name": "stdout",
     "output_type": "stream",
     "text": [
      "Accuracy on adversarial test examples: 40.909090909090914%\n",
      "0.19628099173553717\n"
     ]
    },
    {
     "data": {
      "image/png": "[encoded data removed]",
      "text/plain": [
       "<Figure size 432x288 with 1 Axes>"
      ]
     },
     "metadata": {
      "needs_background": "light"
     },
     "output_type": "display_data"
    }
   ],
   "source": [
    "x_test_undam=x_test[y_test==1]\n",
    "y_test_undam=y_test[y_test==1]\n",
    "\n",
    "attack=FastGradientMethod(estimator=classifier,eps=0.1)\n",
    "x_test_adv1 = attack.generate(x=x_test_undam, y=y_test_undam)\n",
    "\n",
    "x_test_new=np.concatenate([x_test[y_test==0], x_test_adv1])\n",
    "y_test_new=np.concatenate([y_test[y_test==0], y_test[y_test==1]])\n",
    "\n",
    "predictions1 = classifier.predict(x_test_new)\n",
    "accuracy = np.sum(np.where(predictions1>0.5,1,0).reshape(1,-1) == y_test_new)/len(y_test_new)\n",
    "print(\"Accuracy on adversarial test examples: {}%\".format(accuracy * 100))\n",
    "\n",
    "auc2=roc_auc_score(y_test_new, predictions1)\n",
    "print(auc2)\n",
    "fpr, tpr, thresholds = roc_curve(y_test_new, predictions1)\n",
    "plt.plot(fpr,tpr, color=\"blue\")\n",
    "plt.plot([0, 1], [0, 1], color=\"orange\", linestyle=\"--\")\n",
    "plt.xlabel('False Positive Rate')\n",
    "plt.ylabel('True Positive Rate')\n",
    "plt.show()"
   ]
  },
  {
   "cell_type": "code",
   "execution_count": 10,
   "metadata": {},
   "outputs": [
    {
     "name": "stdout",
     "output_type": "stream",
     "text": [
      "Accuracy on adversarial test examples: 52.27272727272727%\n",
      "0.05165289256198347\n"
     ]
    },
    {
     "data": {
      "image/png": "[encoded data removed]",
      "text/plain": [
       "<Figure size 432x288 with 1 Axes>"
      ]
     },
     "metadata": {
      "needs_background": "light"
     },
     "output_type": "display_data"
    }
   ],
   "source": [
    "x_test_undam=x_test[y_test==1]\n",
    "y_test_undam=y_test[y_test==1]\n",
    "\n",
    "attack=FastGradientMethod(estimator=classifier,eps=0.2)\n",
    "x_test_adv2 = attack.generate(x=x_test_undam, y=y_test_undam)\n",
    "\n",
    "x_test_new=np.concatenate([x_test[y_test==0], x_test_adv2])\n",
    "y_test_new=np.concatenate([y_test[y_test==0], y_test[y_test==1]])\n",
    "\n",
    "predictions2 = classifier.predict(x_test_new)\n",
    "accuracy = np.sum(np.where(predictions>0.5,1,0).reshape(1,-1) == y_test_new)/len(y_test_new)\n",
    "print(\"Accuracy on adversarial test examples: {}%\".format(accuracy * 100))\n",
    "\n",
    "auc4=roc_auc_score(y_test_new, predictions2)\n",
    "print(auc4)\n",
    "fpr, tpr, thresholds = roc_curve(y_test_new, predictions2)\n",
    "plt.plot(fpr,tpr, color=\"blue\")\n",
    "plt.plot([0, 1], [0, 1], color=\"orange\", linestyle=\"--\")\n",
    "plt.xlabel('False Positive Rate')\n",
    "plt.ylabel('True Positive Rate')\n",
    "plt.show()"
   ]
  },
  {
   "cell_type": "code",
   "execution_count": null,
   "metadata": {},
   "outputs": [],
   "source": [
    "i=17\n",
    "fig, ax=plt.subplots(1,4, figsize=(18,10))\n",
    "ax[0].imshow(x_test[y_test==1][i])\n",
    "ax[0].set_xlabel(\"benign image\", fontsize=18)\n",
    "ax[1].imshow(x_test_adv[i])\n",
    "ax[1].set_xlabel(\"eps=0.05\", fontsize=18)\n",
    "attack=FastGradientMethod(estimator=classifier,eps=0.1)\n",
    "x_test_adv = attack.generate(x=x_test_undam, y=y_test_undam)\n",
    "ax[2].imshow(x_test_adv1[i])\n",
    "ax[2].set_xlabel(\"eps=0.1\", fontsize=18)\n",
    "attack=FastGradientMethod(estimator=classifier,eps=0.2)\n",
    "x_test_adv = attack.generate(x=x_test_undam, y=y_test_undam)\n",
    "ax[3].imshow(x_test_adv2[i])\n",
    "ax[3].set_xlabel(\"eps=0.2\", fontsize=18)"
   ]
  },
  {
   "cell_type": "code",
   "execution_count": null,
   "metadata": {},
   "outputs": [],
   "source": [
    "print(auc4)"
   ]
  },
  {
   "cell_type": "code",
   "execution_count": null,
   "metadata": {},
   "outputs": [],
   "source": []
  }
 ],
 "metadata": {
  "kernelspec": {
   "display_name": "TensorflowGPU",
   "language": "python",
   "name": "tf_gpu"
  },
  "language_info": {
   "codemirror_mode": {
    "name": "ipython",
    "version": 3
   },
   "file_extension": ".py",
   "mimetype": "text/x-python",
   "name": "python",
   "nbconvert_exporter": "python",
   "pygments_lexer": "ipython3",
   "version": "3.7.4"
  }
 },
 "nbformat": 4,
 "nbformat_minor": 4
}
