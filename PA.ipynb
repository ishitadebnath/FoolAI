{
 "cells": [
  {
   "cell_type": "code",
   "execution_count": 1,
   "metadata": {},
   "outputs": [],
   "source": [
    "import tensorflow as tf\n",
    "tf.compat.v1.disable_eager_execution()\n",
    "from tensorflow.keras.models import Sequential\n",
    "from tensorflow.keras.layers import Dense, Flatten, Conv2D, MaxPool2D, Dropout\n",
    "from tensorflow.keras.losses import binary_crossentropy\n",
    "from tensorflow.keras.optimizers import Adam\n",
    "import numpy as np\n",
    "import pandas as pd\n",
    "import cv2\n",
    "import os\n",
    "from keras.preprocessing.image import ImageDataGenerator\n",
    "from keras.regularizers import l2\n",
    "from art.attacks.evasion import FastGradientMethod\n",
    "from art.estimators.classification import KerasClassifier\n",
    "from art.attacks.poisoning import PoisoningAttackAdversarialEmbedding\n",
    "from art.attacks.poisoning import PoisoningAttackBackdoor\n",
    "from art.attacks.poisoning import PoisoningAttackCleanLabelBackdoor\n",
    "from art.attacks.poisoning.perturbations.image_perturbations import add_pattern_bd, add_single_bd\n",
    "from sklearn.model_selection import train_test_split\n",
    "import matplotlib.pyplot as plt\n",
    "from sklearn.metrics import roc_auc_score, roc_curve"
   ]
  },
  {
   "cell_type": "code",
   "execution_count": 2,
   "metadata": {},
   "outputs": [
    {
     "name": "stdout",
     "output_type": "stream",
     "text": [
      "'NoneType' object is not subscriptable\n"
     ]
    },
    {
     "name": "stderr",
     "output_type": "stream",
     "text": [
      "/software/spackages/linux-centos8-x86_64/gcc-8.3.1/anaconda3-2019.10-v5cuhr6keyz5ryxcwvv2jkzfj2gwrj4a/lib/python3.7/site-packages/ipykernel_launcher.py:16: VisibleDeprecationWarning: Creating an ndarray from ragged nested sequences (which is a list-or-tuple of lists-or-tuples-or ndarrays with different lengths or shapes) is deprecated. If you meant to do this, you must specify 'dtype=object' when creating the ndarray\n",
      "  app.launch_new_instance()\n"
     ]
    },
    {
     "name": "stdout",
     "output_type": "stream",
     "text": [
      "'NoneType' object is not subscriptable\n"
     ]
    }
   ],
   "source": [
    "labels = ['Damaged cars', 'Undamaged cars']\n",
    "img_size = 512\n",
    "\n",
    "def get_data(data_dir):\n",
    "    data = [] \n",
    "    for label in labels: \n",
    "        path = os.path.join(data_dir, label)\n",
    "        class_num = labels.index(label)\n",
    "        for img in os.listdir(path):\n",
    "            try:\n",
    "                img_arr = cv2.imread(os.path.join(path, img))[...,::-1]\n",
    "                resized_arr = cv2.resize(img_arr, (img_size, img_size)) # Reshaping images to preferred size\n",
    "                data.append([resized_arr, class_num])\n",
    "            except Exception as e:\n",
    "                print(e)\n",
    "    return np.array(data)\n",
    "\n",
    "train = get_data('/home/idebnat/FoolAI/train')\n",
    "test = get_data('/home/idebnat/FoolAI/test')\n",
    "\n",
    "x_train = []\n",
    "y_train = []\n",
    "x_test = []\n",
    "y_test = []\n",
    "\n",
    "for feature, label in train:\n",
    "  x_train.append(feature)\n",
    "  y_train.append(label)\n",
    "\n",
    "for feature, label in test:\n",
    "  x_test.append(feature)\n",
    "  y_test.append(label)\n",
    "\n",
    "\n",
    "x_train = np.array(x_train)/255\n",
    "x_test = np.array(x_test)/255\n",
    "\n",
    "x_train.reshape(-1, img_size, img_size, 1)\n",
    "y_train = np.array(y_train)\n",
    "\n",
    "x_test.reshape(-1, img_size, img_size, 1)\n",
    "y_test = np.array(y_test)\n",
    "x_train, x_val, y_train, y_val = train_test_split(x_train, y_train, test_size=0.2, shuffle=True, random_state=42)\n",
    "\n",
    "datagen = ImageDataGenerator(\n",
    "        featurewise_center=False,  # set input mean to 0 over the dataset\n",
    "        samplewise_center=False,  # set each sample mean to 0\n",
    "        featurewise_std_normalization=False,  # divide inputs by std of the dataset\n",
    "        samplewise_std_normalization=False,  # divide each input by its std\n",
    "        zca_whitening=False,  # apply ZCA whitening\n",
    "        rotation_range = 30,  # randomly rotate images in the range (degrees, 0 to 180)\n",
    "        zoom_range = 0.2, # Randomly zoom image \n",
    "        width_shift_range=0.1,  # randomly shift images horizontally (fraction of total width)\n",
    "        height_shift_range=0.1,  # randomly shift images vertically (fraction of total height)\n",
    "        horizontal_flip = True,  # randomly flip images\n",
    "        vertical_flip=False)  # randomly flip images\n",
    "\n",
    "\n",
    "datagen.fit(x_train)"
   ]
  },
  {
   "cell_type": "code",
   "execution_count": 3,
   "metadata": {},
   "outputs": [
    {
     "name": "stdout",
     "output_type": "stream",
     "text": [
      "Model: \"sequential\"\n",
      "_________________________________________________________________\n",
      " Layer (type)                Output Shape              Param #   \n",
      "=================================================================\n",
      " conv2d (Conv2D)             (None, 512, 512, 32)      1568      \n",
      "                                                                 \n",
      " max_pooling2d (MaxPooling2D  (None, 256, 256, 32)     0         \n",
      " )                                                               \n",
      "                                                                 \n",
      " conv2d_1 (Conv2D)           (None, 256, 256, 32)      16416     \n",
      "                                                                 \n",
      " max_pooling2d_1 (MaxPooling  (None, 128, 128, 32)     0         \n",
      " 2D)                                                             \n",
      "                                                                 \n",
      " conv2d_2 (Conv2D)           (None, 128, 128, 32)      16416     \n",
      "                                                                 \n",
      " max_pooling2d_2 (MaxPooling  (None, 64, 64, 32)       0         \n",
      " 2D)                                                             \n",
      "                                                                 \n",
      " conv2d_3 (Conv2D)           (None, 64, 64, 64)        32832     \n",
      "                                                                 \n",
      " max_pooling2d_3 (MaxPooling  (None, 32, 32, 64)       0         \n",
      " 2D)                                                             \n",
      "                                                                 \n",
      " dropout (Dropout)           (None, 32, 32, 64)        0         \n",
      "                                                                 \n",
      " flatten (Flatten)           (None, 65536)             0         \n",
      "                                                                 \n",
      " dense (Dense)               (None, 128)               8388736   \n",
      "                                                                 \n",
      " dense_1 (Dense)             (None, 64)                8256      \n",
      "                                                                 \n",
      " dense_2 (Dense)             (None, 32)                2080      \n",
      "                                                                 \n",
      " dense_3 (Dense)             (None, 1)                 33        \n",
      "                                                                 \n",
      "=================================================================\n",
      "Total params: 8,466,337\n",
      "Trainable params: 8,466,337\n",
      "Non-trainable params: 0\n",
      "_________________________________________________________________\n"
     ]
    }
   ],
   "source": [
    "model = Sequential()\n",
    "model.add(Conv2D(32, 4,padding=\"same\", activation=\"relu\", input_shape=(img_size,img_size,3)))\n",
    "model.add(MaxPool2D())\n",
    "\n",
    "model.add(Conv2D(32, 4, padding=\"same\", activation=\"relu\"))\n",
    "model.add(MaxPool2D())\n",
    "\n",
    "model.add(Conv2D(32, 4, padding=\"same\", activation=\"relu\"))\n",
    "model.add(MaxPool2D())\n",
    "\n",
    "model.add(Conv2D(64, 4, padding=\"same\", activation=\"relu\"))\n",
    "model.add(MaxPool2D())\n",
    "model.add(Dropout(0.4))\n",
    "\n",
    "model.add(Flatten())\n",
    "model.add(Dense(128,activation=\"relu\", kernel_regularizer=l2(0.01)))\n",
    "model.add(Dense(64,activation=\"relu\", kernel_regularizer=l2(0.001)))\n",
    "model.add(Dense(32,activation=\"relu\"))\n",
    "model.add(Dense(1, activation=\"sigmoid\"))\n",
    "\n",
    "model.summary()"
   ]
  },
  {
   "cell_type": "code",
   "execution_count": 4,
   "metadata": {},
   "outputs": [],
   "source": [
    "opt = Adam(learning_rate=5e-5)\n",
    "model.compile(optimizer = opt , loss=\"binary_crossentropy\" , metrics = ['accuracy', 'AUC'])\n",
    "ep=25"
   ]
  },
  {
   "cell_type": "code",
   "execution_count": 5,
   "metadata": {},
   "outputs": [
    {
     "name": "stdout",
     "output_type": "stream",
     "text": [
      "WARNING:tensorflow:OMP_NUM_THREADS is no longer used by the default Keras config. To configure the number of threads, use tf.config.threading APIs.\n"
     ]
    },
    {
     "name": "stderr",
     "output_type": "stream",
     "text": [
      "/home/idebnat/software/venv/tf_gpu/lib/python3.7/site-packages/keras/engine/training_v1.py:2079: UserWarning: `Model.state_updates` will be removed in a future version. This property should not be used in TensorFlow 2.0, as `updates` are applied automatically.\n",
      "  updates=self.state_updates,\n"
     ]
    },
    {
     "data": {
      "application/vnd.jupyter.widget-view+json": {
       "model_id": "57f4b03fc8544750920df659163b409f",
       "version_major": 2,
       "version_minor": 0
      },
      "text/plain": [
       "HBox(children=(IntProgress(value=0, description='PGD - Random Initializations', max=1, style=ProgressStyle(des…"
      ]
     },
     "metadata": {},
     "output_type": "display_data"
    },
    {
     "data": {
      "application/vnd.jupyter.widget-view+json": {
       "model_id": "",
       "version_major": 2,
       "version_minor": 0
      },
      "text/plain": [
       "HBox(children=(IntProgress(value=0, description='PGD - Iterations', style=ProgressStyle(description_width='ini…"
      ]
     },
     "metadata": {},
     "output_type": "display_data"
    },
    {
     "name": "stdout",
     "output_type": "stream",
     "text": [
      "\n"
     ]
    },
    {
     "data": {
      "application/vnd.jupyter.widget-view+json": {
       "model_id": "d35b5b5f0e8747c4aa49bb087ec7cd6b",
       "version_major": 2,
       "version_minor": 0
      },
      "text/plain": [
       "HBox(children=(IntProgress(value=0, description='PGD - Random Initializations', max=1, style=ProgressStyle(des…"
      ]
     },
     "metadata": {},
     "output_type": "display_data"
    },
    {
     "data": {
      "application/vnd.jupyter.widget-view+json": {
       "model_id": "",
       "version_major": 2,
       "version_minor": 0
      },
      "text/plain": [
       "HBox(children=(IntProgress(value=0, description='PGD - Iterations', style=ProgressStyle(description_width='ini…"
      ]
     },
     "metadata": {},
     "output_type": "display_data"
    },
    {
     "name": "stdout",
     "output_type": "stream",
     "text": [
      "\n"
     ]
    },
    {
     "data": {
      "application/vnd.jupyter.widget-view+json": {
       "model_id": "664368101abe449a8f1d158d8d3d8f11",
       "version_major": 2,
       "version_minor": 0
      },
      "text/plain": [
       "HBox(children=(IntProgress(value=0, description='PGD - Random Initializations', max=1, style=ProgressStyle(des…"
      ]
     },
     "metadata": {},
     "output_type": "display_data"
    },
    {
     "data": {
      "application/vnd.jupyter.widget-view+json": {
       "model_id": "",
       "version_major": 2,
       "version_minor": 0
      },
      "text/plain": [
       "HBox(children=(IntProgress(value=0, description='PGD - Iterations', style=ProgressStyle(description_width='ini…"
      ]
     },
     "metadata": {},
     "output_type": "display_data"
    },
    {
     "name": "stdout",
     "output_type": "stream",
     "text": [
      "\n",
      "Train on 160 samples, validate on 40 samples\n",
      "Epoch 1/25\n",
      "160/160 [==============================] - ETA: 0s - loss: 3.5984 - accuracy: 0.2750 - AUC: 0.3372"
     ]
    },
    {
     "name": "stderr",
     "output_type": "stream",
     "text": [
      "/home/idebnat/software/venv/tf_gpu/lib/python3.7/site-packages/keras/engine/training_v1.py:2057: UserWarning: `Model.state_updates` will be removed in a future version. This property should not be used in TensorFlow 2.0, as `updates` are applied automatically.\n",
      "  updates = self.state_updates\n"
     ]
    },
    {
     "name": "stdout",
     "output_type": "stream",
     "text": [
      "160/160 [==============================] - 44s 276ms/sample - loss: 3.5984 - accuracy: 0.2750 - AUC: 0.3372 - val_loss: 3.2275 - val_accuracy: 0.4750 - val_AUC: 0.8421\n",
      "Epoch 2/25\n",
      "160/160 [==============================] - 42s 262ms/sample - loss: 3.1243 - accuracy: 0.5063 - AUC: 0.8773 - val_loss: 3.1273 - val_accuracy: 0.4750 - val_AUC: 0.8333\n",
      "Epoch 3/25\n",
      "160/160 [==============================] - 43s 269ms/sample - loss: 2.9878 - accuracy: 0.5063 - AUC: 0.8881 - val_loss: 3.0073 - val_accuracy: 0.4750 - val_AUC: 0.8195\n",
      "Epoch 4/25\n",
      "160/160 [==============================] - 43s 268ms/sample - loss: 2.8410 - accuracy: 0.5125 - AUC: 0.9142 - val_loss: 2.8916 - val_accuracy: 0.4750 - val_AUC: 0.7757\n",
      "Epoch 5/25\n",
      "160/160 [==============================] - 43s 267ms/sample - loss: 2.6971 - accuracy: 0.6687 - AUC: 0.9048 - val_loss: 2.7907 - val_accuracy: 0.5500 - val_AUC: 0.6591\n",
      "Epoch 6/25\n",
      "160/160 [==============================] - 43s 266ms/sample - loss: 2.5642 - accuracy: 0.8313 - AUC: 0.9119 - val_loss: 2.6888 - val_accuracy: 0.5500 - val_AUC: 0.6591\n",
      "Epoch 7/25\n",
      "160/160 [==============================] - 43s 266ms/sample - loss: 2.4451 - accuracy: 0.8000 - AUC: 0.9062 - val_loss: 2.5878 - val_accuracy: 0.5750 - val_AUC: 0.6642\n",
      "Epoch 8/25\n",
      "160/160 [==============================] - 43s 267ms/sample - loss: 2.3256 - accuracy: 0.8438 - AUC: 0.8875 - val_loss: 2.5349 - val_accuracy: 0.5500 - val_AUC: 0.4737\n",
      "Epoch 9/25\n",
      "160/160 [==============================] - 43s 266ms/sample - loss: 2.2204 - accuracy: 0.8500 - AUC: 0.8839 - val_loss: 2.4407 - val_accuracy: 0.5750 - val_AUC: 0.5639\n",
      "Epoch 10/25\n",
      "160/160 [==============================] - 43s 267ms/sample - loss: 2.1142 - accuracy: 0.8625 - AUC: 0.9040 - val_loss: 2.3531 - val_accuracy: 0.5500 - val_AUC: 0.6015\n",
      "Epoch 11/25\n",
      "160/160 [==============================] - 35s 221ms/sample - loss: 2.0288 - accuracy: 0.8375 - AUC: 0.8839 - val_loss: 2.3123 - val_accuracy: 0.5500 - val_AUC: 0.5614\n",
      "Epoch 12/25\n",
      "160/160 [==============================] - 34s 212ms/sample - loss: 1.9279 - accuracy: 0.8562 - AUC: 0.9144 - val_loss: 2.1976 - val_accuracy: 0.5750 - val_AUC: 0.6441\n",
      "Epoch 13/25\n",
      "160/160 [==============================] - 43s 267ms/sample - loss: 1.8533 - accuracy: 0.8625 - AUC: 0.9055 - val_loss: 2.2026 - val_accuracy: 0.5750 - val_AUC: 0.5890\n",
      "Epoch 14/25\n",
      "160/160 [==============================] - 43s 269ms/sample - loss: 1.7695 - accuracy: 0.8625 - AUC: 0.9198 - val_loss: 2.0771 - val_accuracy: 0.5750 - val_AUC: 0.6541\n",
      "Epoch 15/25\n",
      "160/160 [==============================] - 43s 266ms/sample - loss: 1.6940 - accuracy: 0.8813 - AUC: 0.9263 - val_loss: 2.0413 - val_accuracy: 0.6000 - val_AUC: 0.6429\n",
      "Epoch 16/25\n",
      "160/160 [==============================] - 42s 265ms/sample - loss: 1.6285 - accuracy: 0.8687 - AUC: 0.9248 - val_loss: 1.9706 - val_accuracy: 0.6000 - val_AUC: 0.6629\n",
      "Epoch 17/25\n",
      "160/160 [==============================] - 43s 267ms/sample - loss: 1.5885 - accuracy: 0.8438 - AUC: 0.9315 - val_loss: 1.8774 - val_accuracy: 0.6000 - val_AUC: 0.6917\n",
      "Epoch 18/25\n",
      "160/160 [==============================] - 42s 261ms/sample - loss: 1.5012 - accuracy: 0.8750 - AUC: 0.9446 - val_loss: 2.0369 - val_accuracy: 0.5750 - val_AUC: 0.6153\n",
      "Epoch 19/25\n",
      "160/160 [==============================] - 43s 267ms/sample - loss: 1.4497 - accuracy: 0.8687 - AUC: 0.9380 - val_loss: 1.7384 - val_accuracy: 0.6250 - val_AUC: 0.7256\n",
      "Epoch 20/25\n",
      "160/160 [==============================] - 42s 263ms/sample - loss: 1.3927 - accuracy: 0.9062 - AUC: 0.9469 - val_loss: 1.9092 - val_accuracy: 0.6000 - val_AUC: 0.6466\n",
      "Epoch 21/25\n",
      "160/160 [==============================] - 42s 264ms/sample - loss: 1.3356 - accuracy: 0.8813 - AUC: 0.9556 - val_loss: 1.6844 - val_accuracy: 0.6000 - val_AUC: 0.7118\n",
      "Epoch 22/25\n",
      "160/160 [==============================] - 42s 265ms/sample - loss: 1.2920 - accuracy: 0.9000 - AUC: 0.9616 - val_loss: 1.7150 - val_accuracy: 0.6500 - val_AUC: 0.6967\n",
      "Epoch 23/25\n",
      "160/160 [==============================] - 43s 267ms/sample - loss: 1.2438 - accuracy: 0.8875 - AUC: 0.9637 - val_loss: 1.6366 - val_accuracy: 0.6500 - val_AUC: 0.7218\n",
      "Epoch 24/25\n",
      "160/160 [==============================] - 42s 266ms/sample - loss: 1.1950 - accuracy: 0.9250 - AUC: 0.9716 - val_loss: 1.5661 - val_accuracy: 0.6500 - val_AUC: 0.7607\n",
      "Epoch 25/25\n",
      "160/160 [==============================] - 42s 263ms/sample - loss: 1.1501 - accuracy: 0.9062 - AUC: 0.9736 - val_loss: 1.6093 - val_accuracy: 0.6500 - val_AUC: 0.7456\n",
      "Accuracy on test examples: 63.63636363636363%\n"
     ]
    }
   ],
   "source": [
    "pa_classifier = KerasClassifier(model=model, clip_values=(0, 1), use_logits=False)\n",
    "pert_attack=PoisoningAttackBackdoor(add_pattern_bd)\n",
    "\n",
    "PA=PoisoningAttackCleanLabelBackdoor(proxy_classifier=pa_classifier, backdoor= pert_attack, target=np.array([1]), pp_poison=0.99)\n",
    "x_train_undam=x_train[y_train==1]\n",
    "y_train_undam=y_train[y_train==1]\n",
    "\n",
    "x_p, y_p=PA.poison(x_train_undam, y_train_undam.reshape(-1,1))\n",
    "y_p=y_p.reshape(1,-1)\n",
    "x_train_new=np.concatenate([x_train[y_train==0], x_p])\n",
    "y_train_new=np.concatenate([y_train[y_train==0], y_p.flatten()])\n",
    "\n",
    "pa_classifier.fit(x_train_new, y_train_new, batch_size=32, nb_epochs=ep, validation_data=(x_val,y_val))\n",
    "predictions = pa_classifier.predict(x_test)\n",
    "accuracy = np.sum(np.where(predictions>0.5,1,0).reshape(1,-1) == y_test)/len(y_test)\n",
    "print(\"Accuracy on test examples: {}%\".format(accuracy * 100))\n"
   ]
  },
  {
   "cell_type": "code",
   "execution_count": 6,
   "metadata": {},
   "outputs": [
    {
     "data": {
      "image/png": "[encoded data removed]",
      "text/plain": [
       "<Figure size 432x288 with 1 Axes>"
      ]
     },
     "metadata": {
      "needs_background": "light"
     },
     "output_type": "display_data"
    }
   ],
   "source": [
    "auc=roc_auc_score(y_test, predictions)\n",
    "fpr, tpr, thresholds = roc_curve(y_test, predictions)\n",
    "plt.plot(fpr,tpr, color=\"blue\")\n",
    "plt.plot([0, 1], [0, 1], color=\"orange\", linestyle=\"--\")\n",
    "plt.xlabel('False Positive Rate')\n",
    "plt.ylabel('True Positive Rate')\n",
    "plt.show()"
   ]
  },
  {
   "cell_type": "code",
   "execution_count": null,
   "metadata": {},
   "outputs": [],
   "source": []
  },
  {
   "cell_type": "code",
   "execution_count": null,
   "metadata": {},
   "outputs": [],
   "source": []
  },
  {
   "cell_type": "code",
   "execution_count": null,
   "metadata": {},
   "outputs": [],
   "source": []
  },
  {
   "cell_type": "code",
   "execution_count": null,
   "metadata": {},
   "outputs": [],
   "source": []
  },
  {
   "cell_type": "code",
   "execution_count": null,
   "metadata": {},
   "outputs": [],
   "source": []
  },
  {
   "cell_type": "code",
   "execution_count": null,
   "metadata": {},
   "outputs": [],
   "source": []
  },
  {
   "cell_type": "code",
   "execution_count": null,
   "metadata": {},
   "outputs": [],
   "source": []
  }
 ],
 "metadata": {
  "kernelspec": {
   "display_name": "TensorflowGPU",
   "language": "python",
   "name": "tf_gpu"
  },
  "language_info": {
   "codemirror_mode": {
    "name": "ipython",
    "version": 3
   },
   "file_extension": ".py",
   "mimetype": "text/x-python",
   "name": "python",
   "nbconvert_exporter": "python",
   "pygments_lexer": "ipython3",
   "version": "3.7.4"
  }
 },
 "nbformat": 4,
 "nbformat_minor": 4
}
